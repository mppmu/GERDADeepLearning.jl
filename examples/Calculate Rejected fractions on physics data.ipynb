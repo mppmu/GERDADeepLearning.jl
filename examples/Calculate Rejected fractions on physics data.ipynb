{
 "cells": [
  {
   "cell_type": "markdown",
   "metadata": {},
   "source": [
    "# Setup printing functions and load data"
   ]
  },
  {
   "cell_type": "code",
   "execution_count": 8,
   "metadata": {},
   "outputs": [
    {
     "name": "stdout",
     "output_type": "stream",
     "text": [
      "Total events: 175593\n",
      "Valid events: 169764\n"
     ]
    }
   ],
   "source": [
    "using ClobberingReload\n",
    "@ausing GERDADeepLearning\n",
    "\n",
    "function print_rej(events)\n",
    "    N = eventcount(events)\n",
    "    \n",
    "    AoE_set = filter(events, :AoE_class, x->x!=-1)\n",
    "    N_AoE = eventcount(AoE_set)\n",
    "    rej_AoE = eventcount(filter(AoE_set, [:AoE, :AoE_class], (AoE, cla) -> (AoE<0)&&(cla==1)))\n",
    "    rej_PNN_AoE = sum(AoE_set[:psd_class])\n",
    "    \n",
    "    ANN_set = filter(events, :ANN_mse_class, x->x!=-1)\n",
    "    N_ANN = eventcount(ANN_set)\n",
    "    rej_ANN = eventcount(ANN_set[:ANN_mse_class=>1])\n",
    "    rej_PNN_ANN = sum(ANN_set[:psd_class])\n",
    "    \n",
    "    rej = rej_PNN_AoE + rej_PNN_ANN\n",
    "    \n",
    "    if N_AoE > 0\n",
    "        println(\" ---- BEGes ----\")\n",
    "        println(\"PNN rejected $rej_PNN_AoE ($(Int64(round(100*rej_PNN_AoE/N_AoE)))\\\\%) out of $N_AoE\")\n",
    "        println(\"A/E rejected $rej_AoE ($(Int64(round(100*rej_AoE/N_AoE)))\\\\%) out of $N_AoE\")\n",
    "    end\n",
    "    if N_ANN > 0\n",
    "        println(\" ---- Coax  ----\")\n",
    "        println(\"PNN rejected $rej_PNN_ANN ($(Int64(round(100*rej_PNN_ANN/N_ANN)))\\\\%) out of $N_ANN\")\n",
    "        println(\"ANN rejected $rej_ANN ($(Int64(round(100*rej_ANN/N_ANN)))\\\\%) out of $N_ANN\")\n",
    "    end\n",
    "    println(\" ----Combined----\")\n",
    "    println(\"Two-stage rejected $rej ($(Int64(round(100*rej/N)))\\\\%) out of $N\")\n",
    "    println(\"Current combined rejected $(rej_ANN+rej_AoE) ($(Int64(round(100*(rej_ANN+rej_AoE)/N)))\\\\%) out of $N\")\n",
    "    \n",
    "    println()\n",
    "    println(\"    set & $N & $N_AoE & $rej_PNN_AoE ($(Int64(round(100*rej_PNN_AoE/N_AoE)))\\\\%) & $N_ANN & $rej_PNN_ANN ($(Int64(round(100*rej_PNN_ANN/N_ANN)))\\\\%) & $rej ($(Int64(round(100*rej/N)))\\\\%) \\\\Tstrut \\\\\\\\\")\n",
    "    println(\"    & & & $rej_AoE ($(Int64(round(100*rej_AoE/N_AoE)))\\\\%) & & $rej_ANN ($(Int64(round(100*rej_ANN/N_ANN)))\\\\%) & $(rej_ANN+rej_AoE) ($(Int64(round(100*(rej_ANN+rej_AoE)/N)))\\\\%)  \\\\Bstrut \\\\\\\\\")\n",
    "end\n",
    "\n",
    "function print_eff(events)\n",
    "    N = eventcount(events)\n",
    "    pass = N - sum(events[:psd_class])\n",
    "    N_AoE = eventcount(filter(events, :AoE_class, x->x!=-1))\n",
    "    pass_AoE = N_AoE - eventcount(filter(events, [:AoE, :AoE_class], (AoE, cla) -> (AoE<0)&&(cla==1)))\n",
    "    N_ANN = eventcount(filter(events[:AoE_class=>-1], :ANN_mse_class, x->x!= -1))\n",
    "    pass_ANN = eventcount(events[:AoE_class=>-1, :ANN_mse_class=>0])\n",
    "    println(\"Two-stage eff: $(round(100*pass/N, 1))\\\\pm $(round(100*sqrt(pass)/N, 1)) \\\\% ($pass / $N)\")\n",
    "    println(\"A/E       eff: $(round(100*pass_AoE/N_AoE, 1))\\\\pm $(round(100*sqrt(pass_AoE)/N_AoE, 1)) \\\\% ($pass_AoE / $N_AoE)\")\n",
    "    println(\"ANN       eff: $(round(100*pass_ANN/N_ANN, 1))\\\\pm $(round(100*sqrt(pass_ANN)/N_ANN, 1)) \\\\% ($pass_ANN / $N_ANN)\")\n",
    "end\n",
    "\n",
    "env = DLEnv();\n",
    "data = get(env, \"classified\")\n",
    "println(\"Total events: $(eventcount(data))\")\n",
    "\n",
    "BEGes = detectors(env, \"BEGe\")\n",
    "BEGe_data = filter(data, :detector_name, det -> det ∈ BEGes)\n",
    "filter!(BEGe_data, :AoE_class, x->x!=-1)\n",
    "println(\"Valid events: $(eventcount(data))\")"
   ]
  },
  {
   "cell_type": "markdown",
   "metadata": {},
   "source": [
    "# Data selection"
   ]
  },
  {
   "cell_type": "markdown",
   "metadata": {},
   "source": [
    "Execute the following cell to select only BEGe detectors"
   ]
  },
  {
   "cell_type": "code",
   "execution_count": 6,
   "metadata": {},
   "outputs": [
    {
     "name": "stdout",
     "output_type": "stream",
     "text": [
      "There are 0 from BEGes that are not evaluated\n"
     ]
    }
   ],
   "source": [
    "BEGes = detectors(env, \"BEGe\", \"used\")\n",
    "data = filter(data, :detector_name, det -> det ∈ BEGes)\n",
    "println(\"There are $(eventcount(data[:AoE_class=>-1])) from BEGes that are not evaluated\")"
   ]
  },
  {
   "cell_type": "markdown",
   "metadata": {},
   "source": [
    "Execute the following cell to select only semi-coaxial detectors"
   ]
  },
  {
   "cell_type": "code",
   "execution_count": 9,
   "metadata": {},
   "outputs": [
    {
     "name": "stdout",
     "output_type": "stream",
     "text": [
      "There are 0 from BEGes that are not evaluated\n"
     ]
    }
   ],
   "source": [
    "coax = detectors(env, \"coax\")\n",
    "data = filter(data, :detector_name, det -> det ∈ coax)\n",
    "println(\"There are $(eventcount(filter(data, :AoE_class, x->x!=-1))) from BEGes that are not evaluated\")"
   ]
  },
  {
   "cell_type": "markdown",
   "metadata": {},
   "source": [
    "# Data sets"
   ]
  },
  {
   "cell_type": "markdown",
   "metadata": {},
   "source": [
    "Muon set"
   ]
  },
  {
   "cell_type": "code",
   "execution_count": 169,
   "metadata": {},
   "outputs": [
    {
     "name": "stdout",
     "output_type": "stream",
     "text": [
      " ---- BEGes ----\n",
      "PNN rejected 439 (73\\%) out of 605\n",
      "A/E rejected 243 (40\\%) out of 605\n",
      " ---- Coax  ----\n",
      "PNN rejected 152 (42\\%) out of 361\n",
      "ANN rejected 136 (38\\%) out of 361\n",
      " ----Combined----\n",
      "Two-stage rejected 591 (61\\%) out of 966\n",
      "Current combined rejected 379 (39\\%) out of 966\n",
      "\n",
      "    set & 966 & 605 & 439 (73\\%) & 361 & 152 (42\\%) & 591 (61\\%) \\Tstrut \\\\\n",
      "    & & & 243 (40\\%) & & 136 (38\\%) & 379 (39\\%)  \\Bstrut \\\\\n"
     ]
    }
   ],
   "source": [
    "muons = data[:isMuVetoed=>1]\n",
    "print_rej(muons)"
   ]
  },
  {
   "cell_type": "markdown",
   "metadata": {},
   "source": [
    "LAr set"
   ]
  },
  {
   "cell_type": "code",
   "execution_count": 170,
   "metadata": {},
   "outputs": [
    {
     "name": "stdout",
     "output_type": "stream",
     "text": [
      " ---- BEGes ----\n",
      "PNN rejected 34428 (55\\%) out of 62705\n",
      "A/E rejected 16440 (26\\%) out of 62705\n",
      " ---- Coax  ----\n",
      "PNN rejected 12504 (37\\%) out of 34090\n",
      "ANN rejected 13309 (39\\%) out of 34090\n",
      " ----Combined----\n",
      "Two-stage rejected 46932 (48\\%) out of 96795\n",
      "Current combined rejected 29749 (31\\%) out of 96795\n",
      "\n",
      "    set & 96795 & 62705 & 34428 (55\\%) & 34090 & 12504 (37\\%) & 46932 (48\\%) \\Tstrut \\\\\n",
      "    & & & 16440 (26\\%) & & 13309 (39\\%) & 29749 (31\\%)  \\Bstrut \\\\\n"
     ]
    }
   ],
   "source": [
    "LAr = data[:isLArVetoed=>1]\n",
    "print_rej(LAr)"
   ]
  },
  {
   "cell_type": "markdown",
   "metadata": {},
   "source": [
    "Anti-coincidence set"
   ]
  },
  {
   "cell_type": "code",
   "execution_count": 171,
   "metadata": {},
   "outputs": [
    {
     "name": "stdout",
     "output_type": "stream",
     "text": [
      " ---- BEGes ----\n",
      "PNN rejected 6498 (58\\%) out of 11157\n",
      "A/E rejected 3139 (28\\%) out of 11157\n",
      " ---- Coax  ----\n",
      "PNN rejected 1429 (36\\%) out of 3943\n",
      "ANN rejected 1424 (36\\%) out of 3943\n",
      " ----Combined----\n",
      "Two-stage rejected 7927 (52\\%) out of 15100\n",
      "Current combined rejected 4563 (30\\%) out of 15100\n",
      "\n",
      "    set & 15100 & 11157 & 6498 (58\\%) & 3943 & 1429 (36\\%) & 7927 (52\\%) \\Tstrut \\\\\n",
      "    & & & 3139 (28\\%) & & 1424 (36\\%) & 4563 (30\\%)  \\Bstrut \\\\\n"
     ]
    }
   ],
   "source": [
    "ac = filter(data, :multiplicity, m->m>1)\n",
    "print_rej(ac)"
   ]
  },
  {
   "cell_type": "markdown",
   "metadata": {},
   "source": [
    "2vbb set"
   ]
  },
  {
   "cell_type": "code",
   "execution_count": 172,
   "metadata": {},
   "outputs": [
    {
     "name": "stdout",
     "output_type": "stream",
     "text": [
      " ---- BEGes ----\n",
      "PNN rejected 307 (15\\%) out of 2114\n",
      "A/E rejected 240 (11\\%) out of 2114\n",
      " ---- Coax  ----\n",
      "PNN rejected 382 (21\\%) out of 1852\n",
      "ANN rejected 428 (23\\%) out of 1852\n",
      " ----Combined----\n",
      "Two-stage rejected 689 (17\\%) out of 3966\n",
      "Current combined rejected 668 (17\\%) out of 3966\n",
      "\n",
      "    set & 3966 & 2114 & 307 (15\\%) & 1852 & 382 (21\\%) & 689 (17\\%) \\Tstrut \\\\\n",
      "    & & & 240 (11\\%) & & 428 (23\\%) & 668 (17\\%)  \\Bstrut \\\\\n"
     ]
    }
   ],
   "source": [
    "doublebeta = filter(data[:isMuVetoed=>0, :multiplicity=>1, :isLArVetoed=>0, :FailedPreprocessing=>0], :E, E->(E>1000)&&(E<1300))\n",
    "print_rej(doublebeta)"
   ]
  },
  {
   "cell_type": "markdown",
   "metadata": {},
   "source": [
    "Alpha set"
   ]
  },
  {
   "cell_type": "code",
   "execution_count": 173,
   "metadata": {},
   "outputs": [
    {
     "name": "stdout",
     "output_type": "stream",
     "text": [
      " ---- BEGes ----\n",
      "PNN rejected 130 (56\\%) out of 234\n",
      "A/E rejected 0 (0\\%) out of 234\n",
      " ---- Coax  ----\n",
      "PNN rejected 171 (25\\%) out of 689\n",
      "ANN rejected 159 (23\\%) out of 689\n",
      " ----Combined----\n",
      "Two-stage rejected 301 (33\\%) out of 923\n",
      "Current combined rejected 159 (17\\%) out of 923\n",
      "\n",
      "    set & 923 & 234 & 130 (56\\%) & 689 & 171 (25\\%) & 301 (33\\%) \\Tstrut \\\\\n",
      "    & & & 0 (0\\%) & & 159 (23\\%) & 159 (17\\%)  \\Bstrut \\\\\n"
     ]
    }
   ],
   "source": [
    "alpha = filter(data[:isMuVetoed=>0, :multiplicity=>1, :isLArVetoed=>0, :FailedPreprocessing=>0], :E, E->(E>3000)&&(E<9999))\n",
    "print_rej(alpha)"
   ]
  },
  {
   "cell_type": "markdown",
   "metadata": {},
   "source": [
    "Region of interest"
   ]
  },
  {
   "cell_type": "code",
   "execution_count": 174,
   "metadata": {
    "scrolled": false
   },
   "outputs": [
    {
     "name": "stdout",
     "output_type": "stream",
     "text": [
      " ---- BEGes ----\n",
      "PNN rejected 6 (67\\%) out of 9\n",
      "A/E rejected 4 (44\\%) out of 9\n",
      " ---- Coax  ----\n",
      "PNN rejected 4 (31\\%) out of 13\n",
      "ANN rejected 3 (23\\%) out of 13\n",
      " ----Combined----\n",
      "Two-stage rejected 10 (45\\%) out of 22\n",
      "Current combined rejected 7 (32\\%) out of 22\n",
      "\n",
      "    set & 22 & 9 & 6 (67\\%) & 13 & 4 (31\\%) & 10 (45\\%) \\Tstrut \\\\\n",
      "    & & & 4 (44\\%) & & 3 (23\\%) & 7 (32\\%)  \\Bstrut \\\\\n"
     ]
    }
   ],
   "source": [
    "roi = filter(data[:FailedPreprocessing=>0], :E, E->(E>2038.5-50)&&(E<2039.5+50))\n",
    "print_rej(roi)"
   ]
  },
  {
   "cell_type": "markdown",
   "metadata": {
    "collapsed": true
   },
   "source": [
    "# Individual Events in ROI"
   ]
  },
  {
   "cell_type": "markdown",
   "metadata": {},
   "source": [
    "Select only events with multiplicity 1."
   ]
  },
  {
   "cell_type": "code",
   "execution_count": 175,
   "metadata": {},
   "outputs": [
    {
     "data": {
      "text/html": [
       "12"
      ],
      "text/plain": [
       "12"
      ]
     },
     "execution_count": 175,
     "metadata": {},
     "output_type": "execute_result"
    }
   ],
   "source": [
    "acroi = sort(filter(data[:multiplicity=>1, :FailedPreprocessing=>0], :E, E->(E>2038.5-50)&&(E<2039.5+50)), :E)\n",
    "eventcount(acroi)"
   ]
  },
  {
   "cell_type": "code",
   "execution_count": 8,
   "metadata": {},
   "outputs": [
    {
     "name": "stdout",
     "output_type": "stream",
     "text": [
      "Energy & Detector & Recorded & Muon & LAr & PSD & Classification \\\\\n",
      "\\hline\n",
      "1989 keV & GD61C & April 5, 2016 & No & Yes & No & Yes \\\\\n",
      "1991 keV & ANG5 & April 26, 2016 & No & Yes & No & No \\\\\n",
      "1992 keV & ANG3 & December 31, 2015 & No & Yes & No & No \\\\\n",
      "1994 keV & ANG4 & February 10, 2016 & No & No & No & No \\\\\n",
      "1997 keV & GD89A & May 4, 2016 & No & No & No & No \\\\\n",
      "2009 keV & ANG2 & April 26, 2016 & No & No & No & Yes \\\\\n",
      "2049 keV & GD02B & January 3, 2016 & No & Yes & Yes & Yes \\\\\n",
      "2062 keV & GD61C & May 18, 2016 & No & Yes & Yes & Yes \\\\\n",
      "2064 keV & ANG3 & March 28, 2016 & No & No & No & No \\\\\n",
      "2065 keV & GD89B & January 1, 2016 & No & Yes & No & No \\\\\n",
      "2074 keV & RG1 & May 1, 2016 & No & No & No & No \\\\\n",
      "2082 keV & ANG5 & May 29, 2016 & No & Yes & No & Yes \\\\\n"
     ]
    }
   ],
   "source": [
    "println(\"Energy & Detector & Recorded & Muon & LAr & PSD & Classification \\\\\\\\\")\n",
    "println(\"\\\\hline\")\n",
    "for i in 1:eventcount(acroi)\n",
    "    det = lookup_property(acroi, i, data, :detector_name)\n",
    "    time = Dates.unix2datetime(acroi[:timestamp][i])\n",
    "    date = \"$(Dates.monthname(time)) $(Dates.day(time)), $(Dates.year(time))\"\n",
    "    muon = acroi[:isMuVetoed][i] == 1 ? \"Yes\" : \"No\"\n",
    "    LAr = acroi[:isLArVetoed][i] == 1 ? \"Yes\" : \"No\"\n",
    "    PNN = acroi[:psd_class][i] == 1 ? \"Yes\" : \"No\"\n",
    "    if startswith(det, \"GD\")\n",
    "        PSD = ((acroi[:AoE_class][i] == 1)&&(acroi[:AoE][i] < 0)) ? \"Yes\" : \"No\"\n",
    "    else\n",
    "        PSD = acroi[:ANN_mse_class] == 1 ? \"Yes\" : \"No\"\n",
    "    end\n",
    "    energy = Int64(round(acroi[:E][i]))\n",
    "    println(\"$energy keV & $det & $date & $muon & $LAr & $PSD & $PNN \\\\\\\\\")\n",
    "end"
   ]
  },
  {
   "cell_type": "code",
   "execution_count": null,
   "metadata": {
    "collapsed": true
   },
   "outputs": [],
   "source": []
  }
 ],
 "metadata": {
  "kernelspec": {
   "display_name": "Julia 0.6.0",
   "language": "julia",
   "name": "julia-0.6"
  },
  "language_info": {
   "file_extension": ".jl",
   "mimetype": "application/julia",
   "name": "julia",
   "version": "0.6.0"
  }
 },
 "nbformat": 4,
 "nbformat_minor": 2
}
