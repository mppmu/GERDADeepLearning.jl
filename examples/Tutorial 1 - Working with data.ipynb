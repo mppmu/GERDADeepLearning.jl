{
 "cells": [
  {
   "cell_type": "markdown",
   "metadata": {},
   "source": [
    "# GERDADeepLearning.jl\n",
    "This tutorial explains how to load and work with GERDA data."
   ]
  },
  {
   "cell_type": "markdown",
   "metadata": {},
   "source": [
    "Initialize the Julia packet and load the environment you want to work in."
   ]
  },
  {
   "cell_type": "code",
   "execution_count": 2,
   "metadata": {},
   "outputs": [
    {
     "name": "stderr",
     "output_type": "stream",
     "text": [
      "WARNING: using HDF5.name in module GERDADeepLearning conflicts with an existing identifier.\n",
      "WARNING: import of HDF5.name into GERDADeepLearning conflicts with an existing identifier; ignored.\n",
      "\u001b[1m\u001b[33mWARNING: \u001b[39m\u001b[22m\u001b[33mROOT not pre-initialized, use the ROOT-compatible Julia executable \"/user/.julia/v0.6/ROOT/deps/usr/bin/julia\"\u001b[39m\n",
      "Error in <UnknownClass::InitInterpreter()>: LLVM SYMBOLS ARE EXPOSED TO CLING! This will cause problems; please hide them or dlopen() them after the call to TROOT::InitInterpreter()!\n",
      "WARNING: using ROOTFramework.path in module GERDADeepLearning conflicts with an existing identifier.\n"
     ]
    }
   ],
   "source": [
    "using GERDADeepLearning\n",
    "env = DLEnv();"
   ]
  },
  {
   "cell_type": "markdown",
   "metadata": {},
   "source": [
    "This loads the configuration from config.json located in the same directory as the notebook.\n",
    "If not already present, it will also create the folders data/, models/ and plots/ inside that directory.\n",
    "\n",
    "Now let's have a look at the JSON configuration file. A simple file might look like this:"
   ]
  },
  {
   "cell_type": "raw",
   "metadata": {},
   "source": [
    "config.json\n",
    "\n",
    "{\n",
    "\"path\": \"/remote/ceph/group/gerda/data/phase2/blind/v02.05/gen\",\n",
    "\"keylists\": [\"run0053-run0064-cal-analysis\"],\n",
    "\n",
    "\"verbosity\": 2,\n",
    "\"cache\": true,\n",
    "\n",
    "\"pulses\": {\n",
    "    \"detectors\": [\"GD00A\"],\n",
    "    \"test-pulses\": \"exclude\",\n",
    "    \"baseline-events\": \"exclude\",\n",
    "    \"unphysical-events\": \"exclude\",\n",
    "    \"low-energy-events\": \"include\",\n",
    "    \"preprocessing\": [\"baseline\", \"normalize_energy\", \"align_midpoints\", \"differentiate\"],\n",
    "    \"failed-preprocessing\": \"include\",\n",
    "    \"sets\":{\n",
    "        \"train\": [0.4],\n",
    "        \"xval\": [0.2],\n",
    "        \"test\": [0.4]\n",
    "    }\n",
    "}\n",
    "}"
   ]
  },
  {
   "cell_type": "markdown",
   "metadata": {},
   "source": [
    "The configuration file defines the path of the GERDA data and the names of keylist files located in the same directory as the configuration file.\n",
    "The `verbosity` influences how detailled the console output is going to be. A value of 0 hides all output, 2 is the default and higher values will produce information that might be useful for debugging.\n",
    "The `cache` field determines whether the data should be cached in HDF5 and should be set to \"true\" in most cases.\n",
    "\n",
    "The `pulses` section defines the selection of data, the preprocesing and the splitting into data sets.\n",
    "The array of `detectors` can hold detector names or channel numbers (0-39). If empty, all detectors are processed.\n",
    "The flags `test-pulses`, `baseline-events`, `unphysical-events`, `low-energy-events` and `failed-preprocessing` can be used to select a subgroup of events and take the values `exclude`, `include` or `only`. Events discarded in this step cannot be accessed later on. If you're in doubt, include the events, they can easily be removed later on.\n",
    "\n",
    "The processing steps are listed under `preprocessing` and are executed in order. These are translated to function calls in signal_processing.jl.\n",
    "\n",
    "The entries inside `sets` define the splitting of the data into multiple sets. The numbers define what fraction of the total data of a given keylist is put into which set. One number per keylist is required. The events for each set are chosen deterministically at random, so two preprocessing definitions with the same sets will have the same events in the same order.\n",
    "\n",
    "Once the configuration is set up, loading the data is trivial."
   ]
  },
  {
   "cell_type": "code",
   "execution_count": 3,
   "metadata": {},
   "outputs": [
    {
     "name": "stderr",
     "output_type": "stream",
     "text": [
      "\u001b[1m\u001b[36mINFO: \u001b[39m\u001b[22m\u001b[36mRetrieving 'pulses' from cache.\n",
      "\u001b[39m"
     ]
    },
    {
     "data": {
      "text/plain": [
       "DLData (120 subsets)\n"
      ]
     },
     "execution_count": 3,
     "metadata": {},
     "output_type": "execute_result"
    }
   ],
   "source": [
    "pulses = getdata(env; preprocessing=\"pulses\")"
   ]
  },
  {
   "cell_type": "markdown",
   "metadata": {},
   "source": [
    "This step first checks the cache and only performs the preprocessing if not done before."
   ]
  },
  {
   "cell_type": "markdown",
   "metadata": {},
   "source": [
    "The returned `pulses` object represents the entirety of preprocessed data consisting of multiple libraries, one for each detector and data set.\n",
    "\n",
    "We can get the number of events using `eventcount`"
   ]
  },
  {
   "cell_type": "code",
   "execution_count": 4,
   "metadata": {},
   "outputs": [
    {
     "data": {
      "text/html": [
       "73333757"
      ],
      "text/plain": [
       "73333757"
      ]
     },
     "execution_count": 4,
     "metadata": {},
     "output_type": "execute_result"
    }
   ],
   "source": [
    "eventcount(pulses)"
   ]
  },
  {
   "cell_type": "markdown",
   "metadata": {},
   "source": [
    "Let's only work with the training set of one detector:"
   ]
  },
  {
   "cell_type": "code",
   "execution_count": 5,
   "metadata": {
    "collapsed": true
   },
   "outputs": [],
   "source": [
    "# Only use data set \"train\"\n",
    "data = filter(pulses, :set, \"train\") # creates a new data instance\n",
    "data = pulses[:set=>\"train\"] # equivalent\n",
    "\n",
    "# Only keep one detector\n",
    "filter!(data, :detector_name, \"GD00A\") # modifies the given instance\n",
    "\n",
    "# Only keep events above a certain energy\n",
    "filter!(data, :E, E->E>1500);"
   ]
  },
  {
   "cell_type": "markdown",
   "metadata": {},
   "source": [
    "Let's check if it worked"
   ]
  },
  {
   "cell_type": "code",
   "execution_count": 6,
   "metadata": {},
   "outputs": [
    {
     "name": "stdout",
     "output_type": "stream",
     "text": [
      "String[\"GD00A\"]\n",
      "train\n"
     ]
    }
   ],
   "source": [
    "println(detectors(data))\n",
    "println(data[:set])"
   ]
  },
  {
   "cell_type": "markdown",
   "metadata": {},
   "source": [
    "For performance reason the actual waveforms are not stored in memory until needed. This is why everything until now was so quick to compute.\n",
    "The data is loaded into memory when properties or waveforms are accessed for the first time."
   ]
  },
  {
   "cell_type": "code",
   "execution_count": 7,
   "metadata": {},
   "outputs": [
    {
     "data": {
      "text/html": [
       "146673"
      ],
      "text/plain": [
       "146673"
      ]
     },
     "execution_count": 7,
     "metadata": {},
     "output_type": "execute_result"
    }
   ],
   "source": [
    "eventcount(data) # now the energy filter is applied"
   ]
  },
  {
   "cell_type": "markdown",
   "metadata": {},
   "source": [
    "We can access the waveforms and properties of the data like this:"
   ]
  },
  {
   "cell_type": "code",
   "execution_count": 8,
   "metadata": {},
   "outputs": [
    {
     "data": {
      "text/plain": [
       "Array{Float32,2}"
      ]
     },
     "execution_count": 8,
     "metadata": {},
     "output_type": "execute_result"
    }
   ],
   "source": [
    "typeof(waveforms(data))"
   ]
  },
  {
   "cell_type": "code",
   "execution_count": 9,
   "metadata": {},
   "outputs": [
    {
     "data": {
      "text/plain": [
       "23-element Array{Symbol,1}:\n",
       " :top_level          \n",
       " :AoE                \n",
       " :baseline_level     \n",
       " :timestamp          \n",
       " :isTP               \n",
       " :multiplicity       \n",
       " :isMuVetoed         \n",
       " :ANN_mse_class      \n",
       " :isBL               \n",
       " :E                  \n",
       " :baseline_std       \n",
       " :keylist            \n",
       " :AoE_class          \n",
       " :ANN_alpha_class    \n",
       " :isLArVetoed        \n",
       " :FailedPreprocessing\n",
       " :preprocessing      \n",
       " :detector_id        \n",
       " :name               \n",
       " :waveform_type      \n",
       " :sampling_rate      \n",
       " :detector_name      \n",
       " :set                "
      ]
     },
     "execution_count": 9,
     "metadata": {},
     "output_type": "execute_result"
    }
   ],
   "source": [
    "keys(data)"
   ]
  },
  {
   "cell_type": "code",
   "execution_count": 13,
   "metadata": {},
   "outputs": [
    {
     "data": {
      "text/plain": [
       "146673-element Array{Float32,1}:\n",
       " 2616.52\n",
       " 2494.26\n",
       " 2321.9 \n",
       " 2353.51\n",
       " 2614.68\n",
       " 1651.39\n",
       " 2487.44\n",
       " 2611.43\n",
       " 2309.75\n",
       " 1993.03\n",
       " 2386.22\n",
       " 2187.7 \n",
       " 2298.59\n",
       "    ⋮   \n",
       " 1957.24\n",
       " 2347.6 \n",
       " 1593.03\n",
       " 2152.11\n",
       " 2195.94\n",
       " 1743.25\n",
       " 1856.58\n",
       " 2282.93\n",
       " 2456.12\n",
       " 1620.75\n",
       " 2053.42\n",
       " 2107.45"
      ]
     },
     "execution_count": 13,
     "metadata": {},
     "output_type": "execute_result"
    }
   ],
   "source": [
    "data[:E] # Energy"
   ]
  },
  {
   "cell_type": "code",
   "execution_count": null,
   "metadata": {
    "collapsed": true
   },
   "outputs": [],
   "source": []
  }
 ],
 "metadata": {
  "kernelspec": {
   "display_name": "Julia 0.6.0",
   "language": "julia",
   "name": "julia-0.6"
  },
  "language_info": {
   "file_extension": ".jl",
   "mimetype": "application/julia",
   "name": "julia",
   "version": "0.6.0"
  }
 },
 "nbformat": 4,
 "nbformat_minor": 2
}
